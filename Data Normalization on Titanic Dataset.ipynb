{
 "cells": [
  {
   "cell_type": "code",
   "execution_count": 4,
   "id": "379fca04",
   "metadata": {},
   "outputs": [
    {
     "name": "stdout",
     "output_type": "stream",
     "text": [
      "     PassengerId  Survived  Pclass  \\\n",
      "0              1         0       3   \n",
      "1              2         1       1   \n",
      "2              3         1       3   \n",
      "3              4         1       1   \n",
      "4              5         0       3   \n",
      "..           ...       ...     ...   \n",
      "886          887         0       2   \n",
      "887          888         1       1   \n",
      "888          889         0       3   \n",
      "889          890         1       1   \n",
      "890          891         0       3   \n",
      "\n",
      "                                                  Name     Sex   Age  SibSp  \\\n",
      "0                              Braund, Mr. Owen Harris    male  22.0      1   \n",
      "1    Cumings, Mrs. John Bradley (Florence Briggs Th...  female  38.0      1   \n",
      "2                               Heikkinen, Miss. Laina  female  26.0      0   \n",
      "3         Futrelle, Mrs. Jacques Heath (Lily May Peel)  female  35.0      1   \n",
      "4                             Allen, Mr. William Henry    male  35.0      0   \n",
      "..                                                 ...     ...   ...    ...   \n",
      "886                              Montvila, Rev. Juozas    male  27.0      0   \n",
      "887                       Graham, Miss. Margaret Edith  female  19.0      0   \n",
      "888           Johnston, Miss. Catherine Helen \"Carrie\"  female   NaN      1   \n",
      "889                              Behr, Mr. Karl Howell    male  26.0      0   \n",
      "890                                Dooley, Mr. Patrick    male  32.0      0   \n",
      "\n",
      "     Parch            Ticket     Fare Cabin Embarked  \n",
      "0        0         A/5 21171   7.2500   NaN        S  \n",
      "1        0          PC 17599  71.2833   C85        C  \n",
      "2        0  STON/O2. 3101282   7.9250   NaN        S  \n",
      "3        0            113803  53.1000  C123        S  \n",
      "4        0            373450   8.0500   NaN        S  \n",
      "..     ...               ...      ...   ...      ...  \n",
      "886      0            211536  13.0000   NaN        S  \n",
      "887      0            112053  30.0000   B42        S  \n",
      "888      2        W./C. 6607  23.4500   NaN        S  \n",
      "889      0            111369  30.0000  C148        C  \n",
      "890      0            370376   7.7500   NaN        Q  \n",
      "\n",
      "[891 rows x 12 columns]\n"
     ]
    }
   ],
   "source": [
    "import pandas as pd\n",
    "from sklearn.preprocessing import MinMaxScaler\n",
    "df=pd.read_csv(\"titanic.csv\")\n",
    "print(df)"
   ]
  },
  {
   "cell_type": "code",
   "execution_count": 8,
   "id": "f529a846",
   "metadata": {},
   "outputs": [
    {
     "name": "stdout",
     "output_type": "stream",
     "text": [
      "Normalized Data:       PassengerId  Survived  Pclass  \\\n",
      "0              1         0       3   \n",
      "1              2         1       1   \n",
      "2              3         1       3   \n",
      "3              4         1       1   \n",
      "4              5         0       3   \n",
      "..           ...       ...     ...   \n",
      "886          887         0       2   \n",
      "887          888         1       1   \n",
      "888          889         0       3   \n",
      "889          890         1       1   \n",
      "890          891         0       3   \n",
      "\n",
      "                                                  Name     Sex       Age  \\\n",
      "0                              Braund, Mr. Owen Harris    male  0.271174   \n",
      "1    Cumings, Mrs. John Bradley (Florence Briggs Th...  female  0.472229   \n",
      "2                               Heikkinen, Miss. Laina  female  0.321438   \n",
      "3         Futrelle, Mrs. Jacques Heath (Lily May Peel)  female  0.434531   \n",
      "4                             Allen, Mr. William Henry    male  0.434531   \n",
      "..                                                 ...     ...       ...   \n",
      "886                              Montvila, Rev. Juozas    male  0.334004   \n",
      "887                       Graham, Miss. Margaret Edith  female  0.233476   \n",
      "888           Johnston, Miss. Catherine Helen \"Carrie\"  female  0.346569   \n",
      "889                              Behr, Mr. Karl Howell    male  0.321438   \n",
      "890                                Dooley, Mr. Patrick    male  0.396833   \n",
      "\n",
      "     SibSp  Parch            Ticket      Fare Cabin Embarked  \n",
      "0        1      0         A/5 21171  0.014151   NaN        S  \n",
      "1        1      0          PC 17599  0.139136   C85        C  \n",
      "2        0      0  STON/O2. 3101282  0.015469   NaN        S  \n",
      "3        1      0            113803  0.103644  C123        S  \n",
      "4        0      0            373450  0.015713   NaN        S  \n",
      "..     ...    ...               ...       ...   ...      ...  \n",
      "886      0      0            211536  0.025374   NaN        S  \n",
      "887      0      0            112053  0.058556   B42        S  \n",
      "888      1      2        W./C. 6607  0.045771   NaN        S  \n",
      "889      0      0            111369  0.058556  C148        C  \n",
      "890      0      0            370376  0.015127   NaN        Q  \n",
      "\n",
      "[891 rows x 12 columns]\n"
     ]
    }
   ],
   "source": [
    "# Normalize the Dataset\n",
    "\n",
    "df['Age'].fillna(df['Age'].median(), inplace= True)\n",
    "df['Fare'].fillna(df['Fare'].median(), inplace= True)\n",
    "normalize=[\"Age\",\"Fare\"]\n",
    "scaler= MinMaxScaler()\n",
    "df[normalize]= scaler.fit_transform(df[normalize])\n",
    "print(\"Normalized Data: \",df)"
   ]
  },
  {
   "cell_type": "code",
   "execution_count": null,
   "id": "2bb1d09c",
   "metadata": {},
   "outputs": [],
   "source": []
  }
 ],
 "metadata": {
  "kernelspec": {
   "display_name": "Python 3 (ipykernel)",
   "language": "python",
   "name": "python3"
  },
  "language_info": {
   "codemirror_mode": {
    "name": "ipython",
    "version": 3
   },
   "file_extension": ".py",
   "mimetype": "text/x-python",
   "name": "python",
   "nbconvert_exporter": "python",
   "pygments_lexer": "ipython3",
   "version": "3.11.5"
  }
 },
 "nbformat": 4,
 "nbformat_minor": 5
}
